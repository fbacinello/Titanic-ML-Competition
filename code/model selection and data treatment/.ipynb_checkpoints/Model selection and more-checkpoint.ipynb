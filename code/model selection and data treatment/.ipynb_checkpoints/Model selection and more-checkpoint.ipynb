{
 "cells": [
  {
   "cell_type": "code",
   "execution_count": 1,
   "metadata": {},
   "outputs": [],
   "source": [
    "import pandas as pd"
   ]
  },
  {
   "cell_type": "code",
   "execution_count": 2,
   "metadata": {},
   "outputs": [
    {
     "name": "stdout",
     "output_type": "stream",
     "text": [
      "Shape train data: (891, 12)\n",
      "Shape test data: (418, 11)\n"
     ]
    }
   ],
   "source": [
    "train_data = pd.read_csv('../../data/train.csv')\n",
    "test_data = pd.read_csv('../../data/test.csv')\n",
    "print('Shape train data:', train_data.shape)\n",
    "print('Shape test data:', test_data.shape)"
   ]
  },
  {
   "cell_type": "code",
   "execution_count": 3,
   "metadata": {},
   "outputs": [
    {
     "data": {
      "text/html": [
       "<div>\n",
       "<style scoped>\n",
       "    .dataframe tbody tr th:only-of-type {\n",
       "        vertical-align: middle;\n",
       "    }\n",
       "\n",
       "    .dataframe tbody tr th {\n",
       "        vertical-align: top;\n",
       "    }\n",
       "\n",
       "    .dataframe thead th {\n",
       "        text-align: right;\n",
       "    }\n",
       "</style>\n",
       "<table border=\"1\" class=\"dataframe\">\n",
       "  <thead>\n",
       "    <tr style=\"text-align: right;\">\n",
       "      <th></th>\n",
       "      <th>PassengerId</th>\n",
       "      <th>Survived</th>\n",
       "      <th>Pclass</th>\n",
       "      <th>Name</th>\n",
       "      <th>Sex</th>\n",
       "      <th>Age</th>\n",
       "      <th>SibSp</th>\n",
       "      <th>Parch</th>\n",
       "      <th>Ticket</th>\n",
       "      <th>Fare</th>\n",
       "      <th>Cabin</th>\n",
       "      <th>Embarked</th>\n",
       "    </tr>\n",
       "  </thead>\n",
       "  <tbody>\n",
       "    <tr>\n",
       "      <th>0</th>\n",
       "      <td>1</td>\n",
       "      <td>0</td>\n",
       "      <td>3</td>\n",
       "      <td>Braund, Mr. Owen Harris</td>\n",
       "      <td>male</td>\n",
       "      <td>22.0</td>\n",
       "      <td>1</td>\n",
       "      <td>0</td>\n",
       "      <td>A/5 21171</td>\n",
       "      <td>7.2500</td>\n",
       "      <td>NaN</td>\n",
       "      <td>S</td>\n",
       "    </tr>\n",
       "    <tr>\n",
       "      <th>1</th>\n",
       "      <td>2</td>\n",
       "      <td>1</td>\n",
       "      <td>1</td>\n",
       "      <td>Cumings, Mrs. John Bradley (Florence Briggs Th...</td>\n",
       "      <td>female</td>\n",
       "      <td>38.0</td>\n",
       "      <td>1</td>\n",
       "      <td>0</td>\n",
       "      <td>PC 17599</td>\n",
       "      <td>71.2833</td>\n",
       "      <td>C85</td>\n",
       "      <td>C</td>\n",
       "    </tr>\n",
       "    <tr>\n",
       "      <th>2</th>\n",
       "      <td>3</td>\n",
       "      <td>1</td>\n",
       "      <td>3</td>\n",
       "      <td>Heikkinen, Miss. Laina</td>\n",
       "      <td>female</td>\n",
       "      <td>26.0</td>\n",
       "      <td>0</td>\n",
       "      <td>0</td>\n",
       "      <td>STON/O2. 3101282</td>\n",
       "      <td>7.9250</td>\n",
       "      <td>NaN</td>\n",
       "      <td>S</td>\n",
       "    </tr>\n",
       "    <tr>\n",
       "      <th>3</th>\n",
       "      <td>4</td>\n",
       "      <td>1</td>\n",
       "      <td>1</td>\n",
       "      <td>Futrelle, Mrs. Jacques Heath (Lily May Peel)</td>\n",
       "      <td>female</td>\n",
       "      <td>35.0</td>\n",
       "      <td>1</td>\n",
       "      <td>0</td>\n",
       "      <td>113803</td>\n",
       "      <td>53.1000</td>\n",
       "      <td>C123</td>\n",
       "      <td>S</td>\n",
       "    </tr>\n",
       "    <tr>\n",
       "      <th>4</th>\n",
       "      <td>5</td>\n",
       "      <td>0</td>\n",
       "      <td>3</td>\n",
       "      <td>Allen, Mr. William Henry</td>\n",
       "      <td>male</td>\n",
       "      <td>35.0</td>\n",
       "      <td>0</td>\n",
       "      <td>0</td>\n",
       "      <td>373450</td>\n",
       "      <td>8.0500</td>\n",
       "      <td>NaN</td>\n",
       "      <td>S</td>\n",
       "    </tr>\n",
       "  </tbody>\n",
       "</table>\n",
       "</div>"
      ],
      "text/plain": [
       "   PassengerId  Survived  Pclass  \\\n",
       "0            1         0       3   \n",
       "1            2         1       1   \n",
       "2            3         1       3   \n",
       "3            4         1       1   \n",
       "4            5         0       3   \n",
       "\n",
       "                                                Name     Sex   Age  SibSp  \\\n",
       "0                            Braund, Mr. Owen Harris    male  22.0      1   \n",
       "1  Cumings, Mrs. John Bradley (Florence Briggs Th...  female  38.0      1   \n",
       "2                             Heikkinen, Miss. Laina  female  26.0      0   \n",
       "3       Futrelle, Mrs. Jacques Heath (Lily May Peel)  female  35.0      1   \n",
       "4                           Allen, Mr. William Henry    male  35.0      0   \n",
       "\n",
       "   Parch            Ticket     Fare Cabin Embarked  \n",
       "0      0         A/5 21171   7.2500   NaN        S  \n",
       "1      0          PC 17599  71.2833   C85        C  \n",
       "2      0  STON/O2. 3101282   7.9250   NaN        S  \n",
       "3      0            113803  53.1000  C123        S  \n",
       "4      0            373450   8.0500   NaN        S  "
      ]
     },
     "execution_count": 3,
     "metadata": {},
     "output_type": "execute_result"
    }
   ],
   "source": [
    "train_data.head()"
   ]
  },
  {
   "cell_type": "code",
   "execution_count": 4,
   "metadata": {},
   "outputs": [],
   "source": [
    "# Passengers with wrong number of siblings and parch\n",
    "train_data.loc[train_data['PassengerId'] == 69, ['SibSp', 'Parch']] = [0,0]\n",
    "train_data.loc[train_data['PassengerId'] == 1106, ['SibSp', 'Parch']] = [0,0]\n",
    "\n",
    "#Age outlier\n",
    "train_data.loc[train_data['PassengerId'] == 613, 'Age'] = 48"
   ]
  },
  {
   "cell_type": "code",
   "execution_count": 5,
   "metadata": {},
   "outputs": [
    {
     "data": {
      "text/html": [
       "<div>\n",
       "<style scoped>\n",
       "    .dataframe tbody tr th:only-of-type {\n",
       "        vertical-align: middle;\n",
       "    }\n",
       "\n",
       "    .dataframe tbody tr th {\n",
       "        vertical-align: top;\n",
       "    }\n",
       "\n",
       "    .dataframe thead th {\n",
       "        text-align: right;\n",
       "    }\n",
       "</style>\n",
       "<table border=\"1\" class=\"dataframe\">\n",
       "  <thead>\n",
       "    <tr style=\"text-align: right;\">\n",
       "      <th></th>\n",
       "      <th>Train NA</th>\n",
       "      <th>Test NA</th>\n",
       "    </tr>\n",
       "  </thead>\n",
       "  <tbody>\n",
       "    <tr>\n",
       "      <th>PassengerId</th>\n",
       "      <td>0</td>\n",
       "      <td>0.0</td>\n",
       "    </tr>\n",
       "    <tr>\n",
       "      <th>Survived</th>\n",
       "      <td>0</td>\n",
       "      <td>NaN</td>\n",
       "    </tr>\n",
       "    <tr>\n",
       "      <th>Pclass</th>\n",
       "      <td>0</td>\n",
       "      <td>0.0</td>\n",
       "    </tr>\n",
       "    <tr>\n",
       "      <th>Name</th>\n",
       "      <td>0</td>\n",
       "      <td>0.0</td>\n",
       "    </tr>\n",
       "    <tr>\n",
       "      <th>Sex</th>\n",
       "      <td>0</td>\n",
       "      <td>0.0</td>\n",
       "    </tr>\n",
       "    <tr>\n",
       "      <th>Age</th>\n",
       "      <td>176</td>\n",
       "      <td>86.0</td>\n",
       "    </tr>\n",
       "    <tr>\n",
       "      <th>SibSp</th>\n",
       "      <td>0</td>\n",
       "      <td>0.0</td>\n",
       "    </tr>\n",
       "    <tr>\n",
       "      <th>Parch</th>\n",
       "      <td>0</td>\n",
       "      <td>0.0</td>\n",
       "    </tr>\n",
       "    <tr>\n",
       "      <th>Ticket</th>\n",
       "      <td>0</td>\n",
       "      <td>0.0</td>\n",
       "    </tr>\n",
       "    <tr>\n",
       "      <th>Fare</th>\n",
       "      <td>0</td>\n",
       "      <td>1.0</td>\n",
       "    </tr>\n",
       "    <tr>\n",
       "      <th>Cabin</th>\n",
       "      <td>687</td>\n",
       "      <td>327.0</td>\n",
       "    </tr>\n",
       "    <tr>\n",
       "      <th>Embarked</th>\n",
       "      <td>2</td>\n",
       "      <td>0.0</td>\n",
       "    </tr>\n",
       "  </tbody>\n",
       "</table>\n",
       "</div>"
      ],
      "text/plain": [
       "             Train NA  Test NA\n",
       "PassengerId         0      0.0\n",
       "Survived            0      NaN\n",
       "Pclass              0      0.0\n",
       "Name                0      0.0\n",
       "Sex                 0      0.0\n",
       "Age               176     86.0\n",
       "SibSp               0      0.0\n",
       "Parch               0      0.0\n",
       "Ticket              0      0.0\n",
       "Fare                0      1.0\n",
       "Cabin             687    327.0\n",
       "Embarked            2      0.0"
      ]
     },
     "execution_count": 5,
     "metadata": {},
     "output_type": "execute_result"
    }
   ],
   "source": [
    "# Missing values\n",
    "train_NA = train_data.isna().sum()\n",
    "test_NA = test_data.isna().sum()\n",
    "pd.concat([train_NA, test_NA],axis = 1 ,sort = False ,keys = ['Train NA', 'Test NA'],)"
   ]
  },
  {
   "cell_type": "code",
   "execution_count": 6,
   "metadata": {},
   "outputs": [],
   "source": [
    "# Add new variable Age_NA indicates that there is no age in the original data.\n",
    "train_data.loc[train_data['Age'].isna(), 'Age_NA'] = 1\n",
    "train_data.loc[train_data['Age_NA'].isna(), 'Age_NA'] = 0\n",
    "\n",
    "test_data.loc[test_data['Age'].isna(), 'Age_NA'] = 1       \n",
    "test_data.loc[test_data['Age_NA'].isna(), 'Age_NA'] = 0\n",
    "\n",
    "# titles categories dict\n",
    "title_dict = {  'Mr':     'Mr',\n",
    "                'Mrs':    'Mrs',\n",
    "                'Miss':   'Miss',\n",
    "                'Master': 'Master',              \n",
    "                'Ms':     'Miss',\n",
    "                'Mme':    'Mrs',\n",
    "                'Mlle':   'Miss',\n",
    "                'Capt':   'military',\n",
    "                'Col':    'military',\n",
    "                'Major':  'military',\n",
    "                'Dr':     'Dr',\n",
    "                'Rev':    'Rev',                  \n",
    "                'Sir':    'honor',\n",
    "                'the Countess': 'honor',\n",
    "                'Lady':   'honor',\n",
    "                'Jonkheer': 'honor',\n",
    "                'Don':    'honor',\n",
    "                'Dona':   'honor' }\n",
    "\n",
    "# add title variable\n",
    "train_data['Title'] = train_data['Name'].str.split(',', expand = True)[1].str.split('.', expand = True)[0].str.strip(' ')\n",
    "test_data['Title'] = test_data['Name'].str.split(',', expand = True)[1].str.split('.', expand = True)[0].str.strip(' ')\n",
    "\n",
    "# map titles to category\n",
    "train_data['Title_category'] = train_data['Title'].map(title_dict)\n",
    "test_data['Title_category'] = test_data['Title'].map(title_dict)\n",
    "\n",
    "# delete Title variable\n",
    "del train_data['Title']\n",
    "del test_data['Title']\n",
    "\n",
    "# Filling the missing values in Age with the medians of Sex and Pclass, Title groups\n",
    "train_data['Age'] = train_data.groupby(['Pclass', 'Sex', 'Title_category'])['Age'].apply(lambda x: x.fillna(x.median()))\n",
    "test_data['Age'] = test_data.groupby(['Pclass', 'Sex', 'Title_category'])['Age'].apply(lambda x: x.fillna(x.median()))"
   ]
  },
  {
   "cell_type": "code",
   "execution_count": 7,
   "metadata": {},
   "outputs": [
    {
     "data": {
      "text/html": [
       "<div>\n",
       "<style scoped>\n",
       "    .dataframe tbody tr th:only-of-type {\n",
       "        vertical-align: middle;\n",
       "    }\n",
       "\n",
       "    .dataframe tbody tr th {\n",
       "        vertical-align: top;\n",
       "    }\n",
       "\n",
       "    .dataframe thead th {\n",
       "        text-align: right;\n",
       "    }\n",
       "</style>\n",
       "<table border=\"1\" class=\"dataframe\">\n",
       "  <thead>\n",
       "    <tr style=\"text-align: right;\">\n",
       "      <th></th>\n",
       "      <th>PassengerId</th>\n",
       "      <th>Survived</th>\n",
       "      <th>Pclass</th>\n",
       "      <th>Name</th>\n",
       "      <th>Sex</th>\n",
       "      <th>Age</th>\n",
       "      <th>SibSp</th>\n",
       "      <th>Parch</th>\n",
       "      <th>Ticket</th>\n",
       "      <th>Fare</th>\n",
       "      <th>Cabin</th>\n",
       "      <th>Embarked</th>\n",
       "      <th>Age_NA</th>\n",
       "      <th>Title_category</th>\n",
       "    </tr>\n",
       "  </thead>\n",
       "  <tbody>\n",
       "    <tr>\n",
       "      <th>61</th>\n",
       "      <td>62</td>\n",
       "      <td>1</td>\n",
       "      <td>1</td>\n",
       "      <td>Icard, Miss. Amelie</td>\n",
       "      <td>female</td>\n",
       "      <td>38.0</td>\n",
       "      <td>0</td>\n",
       "      <td>0</td>\n",
       "      <td>113572</td>\n",
       "      <td>80.0</td>\n",
       "      <td>B28</td>\n",
       "      <td>NaN</td>\n",
       "      <td>0.0</td>\n",
       "      <td>Miss</td>\n",
       "    </tr>\n",
       "    <tr>\n",
       "      <th>829</th>\n",
       "      <td>830</td>\n",
       "      <td>1</td>\n",
       "      <td>1</td>\n",
       "      <td>Stone, Mrs. George Nelson (Martha Evelyn)</td>\n",
       "      <td>female</td>\n",
       "      <td>62.0</td>\n",
       "      <td>0</td>\n",
       "      <td>0</td>\n",
       "      <td>113572</td>\n",
       "      <td>80.0</td>\n",
       "      <td>B28</td>\n",
       "      <td>NaN</td>\n",
       "      <td>0.0</td>\n",
       "      <td>Mrs</td>\n",
       "    </tr>\n",
       "  </tbody>\n",
       "</table>\n",
       "</div>"
      ],
      "text/plain": [
       "     PassengerId  Survived  Pclass                                       Name  \\\n",
       "61            62         1       1                        Icard, Miss. Amelie   \n",
       "829          830         1       1  Stone, Mrs. George Nelson (Martha Evelyn)   \n",
       "\n",
       "        Sex   Age  SibSp  Parch  Ticket  Fare Cabin Embarked  Age_NA  \\\n",
       "61   female  38.0      0      0  113572  80.0   B28      NaN     0.0   \n",
       "829  female  62.0      0      0  113572  80.0   B28      NaN     0.0   \n",
       "\n",
       "    Title_category  \n",
       "61            Miss  \n",
       "829            Mrs  "
      ]
     },
     "execution_count": 7,
     "metadata": {},
     "output_type": "execute_result"
    }
   ],
   "source": [
    "# Embarked - There are two missing Embarked values\n",
    "train_data[train_data['Embarked'].isna()]"
   ]
  },
  {
   "cell_type": "code",
   "execution_count": 8,
   "metadata": {},
   "outputs": [],
   "source": [
    "mode_emb = train_data[(train_data['Fare'] > 77) & (train_data['Fare'] < 82)& (train_data['Pclass']==1)]['Embarked'].mode()\n",
    "train_data.loc[train_data['Embarked'].isna(), 'Embarked'] = mode_emb[0]"
   ]
  },
  {
   "cell_type": "code",
   "execution_count": 9,
   "metadata": {},
   "outputs": [],
   "source": [
    "# Fare - Only one fare value is missed\n",
    "# Filling the missing values in Age with the medians of Sex and Pclass, Title groups\n",
    "test_data['Fare'] = test_data.groupby(['Pclass', 'Sex', 'Title_category', 'Parch'])['Fare'].apply(lambda x: x.fillna(x.median()))"
   ]
  },
  {
   "cell_type": "code",
   "execution_count": 10,
   "metadata": {},
   "outputs": [],
   "source": [
    "# Feature generation\n",
    "\n",
    "def feature_generator(data, train = False):\n",
    "    features_data = data\n",
    "    \n",
    "    # Deck\n",
    "    # Extract deck letter from cabin number\n",
    "    features_data['deck'] = features_data['Cabin'].str.split('', expand = True)[1]\n",
    "    # If cabin is NA - deck = U\n",
    "    features_data.loc[features_data['deck'].isna(), 'deck'] = 'U'\n",
    "    # If cabin is T - change to A (see EDA)\n",
    "    features_data.loc[features_data['deck'] == 'T', 'deck'] = 'A'\n",
    "    # Create dummy variables with prefix 'deck'\n",
    "    features_data = pd.concat([features_data, pd.get_dummies(features_data['deck'], prefix = 'deck')], axis = 1)\n",
    "    \n",
    "    # Titles\n",
    "    features_data = pd.concat([features_data, pd.get_dummies(features_data['Title_category'], prefix = 'title')], axis = 1)\n",
    "    \n",
    "    # Family size\n",
    "    features_data['Family_size'] = features_data['SibSp'] + features_data['Parch'] + 1\n",
    "    features_data['Family_size_group'] = features_data['Family_size'].map(\n",
    "        lambda x: 'f_single' if x == 1\n",
    "        else ('f_usual' if 5 > x >= 2\n",
    "             else ('f_big' if 8 > x >= 5\n",
    "                  else ('f_large'))))\n",
    "    \n",
    "    features_data = pd.concat([features_data, pd.get_dummies(features_data['Family_size_group'], prefix = 'family')], axis = 1)\n",
    "    \n",
    "    # Sex to number\n",
    "    features_data['Sex'] = features_data['Sex'].map({'female': 1, 'male': 0}).astype(int)\n",
    "    \n",
    "    # embarked dummy\n",
    "    features_data = pd.concat([features_data, pd.get_dummies(features_data['Embarked'], prefix = 'embarked')], axis = 1)\n",
    "    \n",
    "    # zero fare feature\n",
    "    features_data['zero_fare'] = features_data['Fare'].map(lambda x: 1 if x == 0 else (0))\n",
    "    \n",
    "    # from numeric to categorical\n",
    "    features_data['SibSp'] = features_data['SibSp'].map(lambda x: 1 if x > 0 else (0))\n",
    "    features_data['Parch'] = features_data['Parch'].map(lambda x: 1 if x > 0 else (0))\n",
    "    \n",
    "    # delete variables we are not going to use anymore\n",
    "    del features_data['PassengerId']\n",
    "    del features_data['Ticket']\n",
    "    del features_data['Cabin']\n",
    "    del features_data['deck']    \n",
    "    del features_data['Title_category']\n",
    "    del features_data['Name']\n",
    "    del features_data['Family_size']\n",
    "    del features_data['Family_size_group'] \n",
    "    del features_data['Embarked']    \n",
    "    \n",
    "    return features_data  "
   ]
  },
  {
   "cell_type": "code",
   "execution_count": 11,
   "metadata": {},
   "outputs": [],
   "source": [
    "# Generation - Generte features for training and test datasets\n",
    "all_train_label = train_data['Survived']\n",
    "del train_data['Survived']\n",
    "\n",
    "# Generate features from training dataset\n",
    "all_train_features = feature_generator(train_data)\n",
    "# Generate features from test dataset\n",
    "all_test_features = feature_generator(test_data)"
   ]
  },
  {
   "cell_type": "code",
   "execution_count": 16,
   "metadata": {},
   "outputs": [
    {
     "data": {
      "text/plain": [
       "<matplotlib.axes._subplots.AxesSubplot at 0x1f1c0be2548>"
      ]
     },
     "execution_count": 16,
     "metadata": {},
     "output_type": "execute_result"
    },
    {
     "data": {
      "image/png": "[encoded data removed]",
      "text/plain": [
       "<Figure size 864x720 with 2 Axes>"
      ]
     },
     "metadata": {
      "needs_background": "light"
     },
     "output_type": "display_data"
    }
   ],
   "source": [
    "# Correlation - \n",
    "# Correlation refers to how close two variables are to having a linear relationship with each other. \n",
    "# Features with high correlation are more linearly dependent and hence have almost the same effect on the dependent variable.\n",
    "# So, when two features have high correlation, we can drop one of the two features\n",
    "import matplotlib.pyplot as plt\n",
    "import seaborn as sns\n",
    "\n",
    "plt.figure(figsize=(12,10))\n",
    "cor = all_train_features.corr()\n",
    "sns.heatmap(cor)"
   ]
  },
  {
   "cell_type": "code",
   "execution_count": 26,
   "metadata": {},
   "outputs": [
    {
     "name": "stdout",
     "output_type": "stream",
     "text": [
      "0.8339200998751559\n",
      "{'C': 0.5, 'class_weight': None, 'solver': 'newton-cg'}\n"
     ]
    }
   ],
   "source": [
    "# Models\n",
    "\n",
    "from sklearn.linear_model import LogisticRegression\n",
    "from sklearn.model_selection import GridSearchCV\n",
    "# set model. max_iter - Maximum number of iterations taken for the solvers to converge.\n",
    "lg_model = LogisticRegression(random_state = 64, max_iter = 1000)\n",
    "# set parameters values we are going to check\n",
    "optimization_dict = {'class_weight':['balanced', None],\n",
    "                     'solver':['newton-cg', 'lbfgs', 'liblinear', 'sag', 'saga'],\n",
    "                     'C': [0.01, 0.05, 0.07, 0.1, 0.5, 1, 2, 4, 5, 10, 15, 20]}\n",
    "\n",
    "# set GridSearchCV parameters\n",
    "model = GridSearchCV(lg_model, optimization_dict, scoring='accuracy', n_jobs = -1, cv = 10)\n",
    "\n",
    "# use training features\n",
    "model.fit(all_train_features, all_train_label)\n",
    "\n",
    "# print result\n",
    "print(model.best_score_)\n",
    "print(model.best_params_)"
   ]
  },
  {
   "cell_type": "code",
   "execution_count": 28,
   "metadata": {},
   "outputs": [],
   "source": [
    "# set best parameters to the model\n",
    "lg_tuned_model = LogisticRegression(solver = 'newton-cg',\n",
    "                                   C = 0.5,\n",
    "                                   random_state = 64,\n",
    "                                   n_jobs = -1)"
   ]
  },
  {
   "cell_type": "code",
   "execution_count": 31,
   "metadata": {},
   "outputs": [
    {
     "data": {
      "image/png": "[encoded data removed]",
      "text/plain": [
       "<Figure size 864x360 with 1 Axes>"
      ]
     },
     "metadata": {
      "needs_background": "light"
     },
     "output_type": "display_data"
    }
   ],
   "source": [
    "# feature importance\n",
    "# for better understanding our data and how our model works, now we can calculate and visualize feature importance!\n",
    "\n",
    "# train our model with training data\n",
    "lg_tuned_model.fit(all_train_features, all_train_label)\n",
    "\n",
    "# calculate importances based on coefficients\n",
    "importances = abs(lg_tuned_model.coef_[0])\n",
    "importances = 100.0 * (importances / importances.max())\n",
    "# sort\n",
    "import numpy as np\n",
    "indices = np.argsort(importances)[::-1]\n",
    "# Rearrange feature names so they match the sorted feature importances\n",
    "names = [all_train_features.columns[i] for i in indices]\n",
    "\n",
    "# visualice\n",
    "plt.figure(figsize = (12,5))\n",
    "sns.set_style(\"whitegrid\")\n",
    "chart = sns.barplot(x =names, y = importances[indices])\n",
    "plt.xticks(\n",
    "    rotation=45, \n",
    "    horizontalalignment='right',\n",
    "    fontweight='light'  \n",
    ")\n",
    "plt.title('Logistic regression. Feature importance')\n",
    "plt.tight_layout()"
   ]
  },
  {
   "cell_type": "code",
   "execution_count": 33,
   "metadata": {},
   "outputs": [
    {
     "name": "stdout",
     "output_type": "stream",
     "text": [
      "Fitting 5 folds for each of 384 candidates, totalling 1920 fits\n"
     ]
    },
    {
     "name": "stderr",
     "output_type": "stream",
     "text": [
      "[Parallel(n_jobs=-1)]: Using backend LokyBackend with 4 concurrent workers.\n",
      "[Parallel(n_jobs=-1)]: Done  42 tasks      | elapsed:   32.6s\n",
      "[Parallel(n_jobs=-1)]: Done 192 tasks      | elapsed:  2.8min\n",
      "[Parallel(n_jobs=-1)]: Done 442 tasks      | elapsed:  6.6min\n",
      "[Parallel(n_jobs=-1)]: Done 792 tasks      | elapsed: 11.9min\n",
      "[Parallel(n_jobs=-1)]: Done 1242 tasks      | elapsed: 18.8min\n",
      "[Parallel(n_jobs=-1)]: Done 1792 tasks      | elapsed: 27.2min\n",
      "[Parallel(n_jobs=-1)]: Done 1920 out of 1920 | elapsed: 29.3min finished\n"
     ]
    },
    {
     "name": "stdout",
     "output_type": "stream",
     "text": [
      "0.8350072186303434\n",
      "{'criterion': 'gini', 'max_depth': 12, 'min_samples_leaf': 4, 'min_samples_split': 6, 'n_estimators': 100}\n"
     ]
    }
   ],
   "source": [
    "# random forest\n",
    "from sklearn.ensemble import RandomForestClassifier\n",
    "\n",
    "rf_model = RandomForestClassifier(oob_score = True, n_jobs = -1, random_state = 64)\n",
    "# create a dictionary of parameters values we want to try\n",
    "optimization_dict = {'criterion':['gini', 'entropy'],\n",
    "                     'n_estimators': [100, 500, 1000, 1700],\n",
    "                     'max_depth': [7, 10, 11, 12],\n",
    "                     'min_samples_split': [6, 7, 8, 10],\n",
    "                     'min_samples_leaf': [3, 4, 5]\n",
    "                     }\n",
    "\n",
    "# set GridSearchCV parameters\n",
    "model = GridSearchCV(rf_model, optimization_dict, scoring = 'accuracy', verbose = 1, n_jobs = -1, cv = 5)\n",
    "\n",
    "# use training data\n",
    "model.fit(all_train_features, all_train_label)\n",
    "\n",
    "# print best score and best parameters combination\n",
    "print(model.best_score_)\n",
    "print(model.best_params_)"
   ]
  },
  {
   "cell_type": "code",
   "execution_count": 36,
   "metadata": {},
   "outputs": [],
   "source": [
    "# set best parameters to the model\n",
    "rf_tuned_model = RandomForestClassifier(criterion = 'gini',\n",
    "                                       n_estimators = 100,\n",
    "                                       max_depth = 12,\n",
    "                                       min_samples_split = 6,\n",
    "                                       min_samples_leaf = 4,\n",
    "                                       max_features = 'auto',\n",
    "                                       oob_score = True,\n",
    "                                       random_state = 64,\n",
    "                                       n_jobs = -1)"
   ]
  },
  {
   "cell_type": "code",
   "execution_count": 37,
   "metadata": {},
   "outputs": [
    {
     "data": {
      "image/png": "[encoded data removed]",
      "text/plain": [
       "<Figure size 864x360 with 1 Axes>"
      ]
     },
     "metadata": {},
     "output_type": "display_data"
    }
   ],
   "source": [
    "# feature importance\n",
    "\n",
    "# train model using training dataset\n",
    "rf_tuned_model.fit(all_train_features, all_train_label)\n",
    "\n",
    "# Calculate feature importances\n",
    "importances = rf_tuned_model.feature_importances_\n",
    "\n",
    "# Visualize Feature Importance\n",
    "# Sort feature importances in descending order\n",
    "indices = np.argsort(importances)[::-1]\n",
    "\n",
    "# Rearrange feature names so they match the sorted feature importances\n",
    "names = [all_train_features.columns[i] for i in indices]\n",
    "\n",
    "plt.figure(figsize = (12, 5))\n",
    "sns.set_style(\"whitegrid\")\n",
    "chart = sns.barplot(x = names, y=importances[indices])\n",
    "plt.xticks(\n",
    "    rotation=45, \n",
    "    horizontalalignment='right',\n",
    "    fontweight='light'  \n",
    ")\n",
    "plt.title('Random forest. Feature importance')\n",
    "plt.tight_layout()"
   ]
  },
  {
   "cell_type": "code",
   "execution_count": 38,
   "metadata": {},
   "outputs": [
    {
     "ename": "ModuleNotFoundError",
     "evalue": "No module named 'xgboost'",
     "output_type": "error",
     "traceback": [
      "\u001b[1;31m---------------------------------------------------------------------------\u001b[0m",
      "\u001b[1;31mModuleNotFoundError\u001b[0m                       Traceback (most recent call last)",
      "\u001b[1;32m<ipython-input-38-3cb65fdd19c1>\u001b[0m in \u001b[0;36m<module>\u001b[1;34m\u001b[0m\n\u001b[0;32m      1\u001b[0m \u001b[1;31m# xgboost\u001b[0m\u001b[1;33m\u001b[0m\u001b[1;33m\u001b[0m\u001b[1;33m\u001b[0m\u001b[0m\n\u001b[1;32m----> 2\u001b[1;33m \u001b[1;32mfrom\u001b[0m \u001b[0mxgboost\u001b[0m \u001b[1;32mimport\u001b[0m \u001b[0mXGBClassifier\u001b[0m\u001b[1;33m\u001b[0m\u001b[1;33m\u001b[0m\u001b[0m\n\u001b[0m\u001b[0;32m      3\u001b[0m \u001b[0mxgb_model\u001b[0m \u001b[1;33m=\u001b[0m \u001b[0mXGBClassifier\u001b[0m\u001b[1;33m(\u001b[0m\u001b[0mrandom_state\u001b[0m \u001b[1;33m=\u001b[0m \u001b[1;36m64\u001b[0m\u001b[1;33m)\u001b[0m\u001b[1;33m\u001b[0m\u001b[1;33m\u001b[0m\u001b[0m\n",
      "\u001b[1;31mModuleNotFoundError\u001b[0m: No module named 'xgboost'"
     ]
    }
   ],
   "source": [
    "# xgboost\n",
    "from xgboost import XGBClassifier\n",
    "xgb_model = XGBClassifier(random_state = 64)"
   ]
  }
 ],
 "metadata": {
  "kernelspec": {
   "display_name": "Python 3",
   "language": "python",
   "name": "python3"
  },
  "language_info": {
   "codemirror_mode": {
    "name": "ipython",
    "version": 3
   },
   "file_extension": ".py",
   "mimetype": "text/x-python",
   "name": "python",
   "nbconvert_exporter": "python",
   "pygments_lexer": "ipython3",
   "version": "3.7.6"
  }
 },
 "nbformat": 4,
 "nbformat_minor": 2
}
